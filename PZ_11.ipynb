{
  "nbformat": 4,
  "nbformat_minor": 0,
  "metadata": {
    "colab": {
      "name": "PZ_11.ipynb",
      "provenance": [],
      "authorship_tag": "ABX9TyOMDRd/CRAzhx07H3Kx6c4i",
      "include_colab_link": true
    },
    "kernelspec": {
      "name": "python3",
      "display_name": "Python 3"
    },
    "language_info": {
      "name": "python"
    }
  },
  "cells": [
    {
      "cell_type": "markdown",
      "metadata": {
        "id": "view-in-github",
        "colab_type": "text"
      },
      "source": [
        "<a href=\"https://colab.research.google.com/github/Lit-Al/reports/blob/main/PZ_11.ipynb\" target=\"_parent\"><img src=\"https://colab.research.google.com/assets/colab-badge.svg\" alt=\"Open In Colab\"/></a>"
      ]
    },
    {
      "cell_type": "markdown",
      "source": [
        "Вариант 12"
      ],
      "metadata": {
        "id": "s5amit1lOByk"
      }
    },
    {
      "cell_type": "markdown",
      "source": [
        "Практическая №3"
      ],
      "metadata": {
        "id": "ezD7xza5OIad"
      }
    },
    {
      "cell_type": "code",
      "source": [
        "A,B,C = input('Введите первое целое число: '),input('Введите второе целое число: '),input('Введите третье целое число: ')\n",
        "\n",
        "while type(A) != int:  # Обработка исключений\n",
        "    try:\n",
        "        A = int(A)\n",
        "    except ValueError:\n",
        "        print ('Первое число не целое!')\n",
        "        A = input('Введите целое число: ')\n",
        "while type(B) != int:  # Обработка исключений\n",
        "    try:\n",
        "        B = int(B)\n",
        "    except ValueError:\n",
        "        print ('Второе число не целое!')\n",
        "        B = input('Введите целое число: ')\n",
        "while type(C) != int:  # Обработка исключений\n",
        "    try:\n",
        "        C = int(C)\n",
        "    except ValueError:\n",
        "        print ('Третье число не целое!')\n",
        "        C = input('Введите целое число: ')\n",
        "a = (A>0)\n",
        "b = (B>0)\n",
        "c = (C>0)\n",
        "x = (a and b and c)\n",
        "print(\"A положительно: \", a)\n",
        "print(\"B положительно: \", b)\n",
        "print(\"C положительно: \", c)\n",
        "print(\"Каждое из чисел A, B, C положительное: \", x)"
      ],
      "metadata": {
        "colab": {
          "base_uri": "https://localhost:8080/"
        },
        "id": "j9DvepHqOLbt",
        "outputId": "3b157da7-6bd1-47f2-9273-7578faa78afc"
      },
      "execution_count": 1,
      "outputs": [
        {
          "output_type": "stream",
          "name": "stdout",
          "text": [
            "Введите первое целое число: 1\n",
            "Введите второе целое число: 4\n",
            "Введите третье целое число: 6\n",
            "A положительно:  True\n",
            "B положительно:  True\n",
            "C положительно:  True\n",
            "Каждое из чисел A, B, C положительное:  True\n"
          ]
        }
      ]
    },
    {
      "cell_type": "markdown",
      "source": [
        "Практическая №4"
      ],
      "metadata": {
        "id": "YfFlsEItOZE-"
      }
    },
    {
      "cell_type": "code",
      "source": [
        "N = input('Введите целое положительное число: ')\n",
        "S = 0.0\n",
        "i = 1\n",
        "while type(N) != int: #Обработка исключений\n",
        "    try:\n",
        "        N = int(N)\n",
        "    except ValueError:\n",
        "        print ('Вы ввели не целое цисло!')\n",
        "        N = input('Введите целое число: ')\n",
        "while N: #Цикл будет работать пока N не равно нулю\n",
        "    x = (1 + i*0.1)*(-1)**(i+1)\n",
        "    S += x\n",
        "    N -= 1\n",
        "    i += 1\n",
        "print('Результат:', S)"
      ],
      "metadata": {
        "colab": {
          "base_uri": "https://localhost:8080/"
        },
        "id": "x9ob6r5aOc81",
        "outputId": "dae3c15c-2268-4835-9fc7-94793fee5d22"
      },
      "execution_count": 2,
      "outputs": [
        {
          "output_type": "stream",
          "name": "stdout",
          "text": [
            "Введите целое положительное число: 4\n",
            "Результат: -0.19999999999999973\n"
          ]
        }
      ]
    },
    {
      "cell_type": "markdown",
      "source": [
        "Практическая №5"
      ],
      "metadata": {
        "id": "hu5hyQ0mOhM-"
      }
    },
    {
      "cell_type": "code",
      "source": [
        "def summa():  # главная функция с проведением расчётов\n",
        "    stop = ''\n",
        "    summ = 0\n",
        "    while stop != 'конец':\n",
        "        n = int(input('Введите число: '))\n",
        "        summ += n\n",
        "        stop = input('Если хотите закончить числовой ряд введите - \"конец\", иначе нажмите - Enter ')\n",
        "    return summ\n",
        "print(summa())"
      ],
      "metadata": {
        "colab": {
          "base_uri": "https://localhost:8080/"
        },
        "id": "c4xmihChOmCE",
        "outputId": "44cf7710-f11f-4475-e363-74afcd05632d"
      },
      "execution_count": 3,
      "outputs": [
        {
          "output_type": "stream",
          "name": "stdout",
          "text": [
            "Введите число: 6\n",
            "Если хотите закончить числовой ряд введите - \"конец\", иначе нажмите - Enter конец\n",
            "6\n"
          ]
        }
      ]
    }
  ]
}